{
 "cells": [
  {
   "cell_type": "markdown",
   "id": "6f8d6410",
   "metadata": {},
   "source": [
    "## 2. Randomness"
   ]
  },
  {
   "cell_type": "markdown",
   "id": "b3e8d8bb",
   "metadata": {},
   "source": [
    "## Exercise 2.1"
   ]
  },
  {
   "cell_type": "markdown",
   "id": "226ce738",
   "metadata": {},
   "source": [
    "### Task"
   ]
  },
  {
   "cell_type": "markdown",
   "id": "75f51a1b",
   "metadata": {},
   "source": [
    "It is somewhat interesting that (5 * 4 * 3 * 2 * 1) perfectly divides (10 * 9 * 8 * 7 * 6) - there's no remainder.\n",
    "\n",
    "If we only wanted exactly four heads as opposed to five, the equivalent calculation would be (10 * 9 * 8 * 7) / (4 * 3 * 2 * 1).\n",
    "\n",
    "Does that evenly divide too? What is the formula in general?\n",
    "\n",
    "Does it always come out as a positive whole number?"
   ]
  },
  {
   "cell_type": "markdown",
   "id": "4777bd51",
   "metadata": {},
   "source": [
    "### Solution"
   ]
  },
  {
   "cell_type": "code",
   "execution_count": 1,
   "id": "8e8ed9cd",
   "metadata": {},
   "outputs": [
    {
     "data": {
      "text/plain": [
       "210"
      ]
     },
     "execution_count": 1,
     "metadata": {},
     "output_type": "execute_result"
    }
   ],
   "source": [
    "(10 * 9 * 8 * 7) // (4 * 3 * 2 * 1)"
   ]
  },
  {
   "cell_type": "markdown",
   "id": "7c81a04e",
   "metadata": {},
   "source": [
    "As in the case of `(10 * 9 * 8 * 7 * 6)//(5 * 4 * 3 * 2 * 1)`, `(10 * 9 * 8 * 7)` also perfectly divides by `(4 * 3 * 2 * 1)`. There are 210 ways of getting 4 heads in 10 coin flips. "
   ]
  },
  {
   "cell_type": "markdown",
   "id": "d787b979",
   "metadata": {},
   "source": [
    "The general formula is $\\binom{n}{k} = \\frac{n!}{k!(n-k)!}$. It is called a *Binomial coefficient* (a.k.a, the Choose function) (Wikibooks 2022).\n",
    "\n",
    "The binomial coefficient is the number of distinct subsets of size *k* of a set of size *n* (Millwood 2012). Or in simpler words, it is the number of ways of picking *k* things from *n* possibilities (Wolfram MathWorld n.d.)."
   ]
  },
  {
   "cell_type": "markdown",
   "id": "722b8de6",
   "metadata": {},
   "source": [
    "Number of possibilities for getting 4 heads in 10 tries using the formula above.\n",
    "\n",
    "$\\binom{10}{4} = \\frac{10!}{4!(10-4)!} = \\frac{10!}{4!(6)!} = \\frac{10 x 9 x 8 x 7 x 6 x 5 x 4 x 3 x 2 x 1}{4 x 3 x 2 x 1 x (6 x 5 x 4 x 3 x 2 x 1)} = \\frac{10 x 9 x 8 x 7}{4 x 3 x 2 x 1} = \\frac{5040}{24} = 210$  \n"
   ]
  },
  {
   "cell_type": "markdown",
   "id": "157809de",
   "metadata": {},
   "source": [
    "The calculation can also be performed using python and math.comb function (Python n.d.)."
   ]
  },
  {
   "cell_type": "code",
   "execution_count": 1,
   "id": "b110ccdf",
   "metadata": {},
   "outputs": [
    {
     "name": "stdout",
     "output_type": "stream",
     "text": [
      "210\n"
     ]
    }
   ],
   "source": [
    "import math\n",
    "\n",
    "n = 10\n",
    "k = 4\n",
    "\n",
    "p = math.comb(n, k)\n",
    "\n",
    "print(p)"
   ]
  },
  {
   "cell_type": "markdown",
   "id": "f55b0199",
   "metadata": {},
   "source": [
    "The outcome is always a positive integer.\n",
    "\n",
    "0 $\\leq$ k $\\leq$ n and both k & n are always whole numbers as both the number of distinctive subsets (things) and the size of the set (possibilities) must be positive integers."
   ]
  },
  {
   "cell_type": "markdown",
   "id": "a069332c",
   "metadata": {},
   "source": [
    "## Exercise 2.2"
   ]
  },
  {
   "cell_type": "markdown",
   "id": "da5dfb54",
   "metadata": {},
   "source": [
    "### Task"
   ]
  },
  {
   "cell_type": "markdown",
   "id": "64f4c975",
   "metadata": {},
   "source": [
    "Note that there are the same number of ways to get 4 tails as there to get 4 heads. Explain why this is."
   ]
  },
  {
   "cell_type": "markdown",
   "id": "8dac2f17",
   "metadata": {},
   "source": [
    "### Solution"
   ]
  },
  {
   "cell_type": "markdown",
   "id": "96344ff9",
   "metadata": {},
   "source": [
    "There is the same number of ways to get 4 heads in 10 tries as there is to get 4 heads as there are only two results available when flipping a coin - head or tails. Both results have equal probability of occuring. \n",
    "\n",
    "Therefore if we're looking to get 4 of either heads or tails in 10 tries the variables, and number of ways to get 4 of the same results, remain the same , ie. $k_{1} = k_{2}$ and $n_{1} = n_{2}$.\n",
    "\n",
    "If \n",
    "\n",
    "$k_{1} = k_{2}$ and $n_{1} = n_{2}$\n",
    "\n",
    "Then\n",
    "\n",
    "$\\binom{n_{1}}{k_{1}} = \\binom{n_{2}}{k_{2}}$\n",
    "\n",
    "And\n",
    "\n",
    "$\\frac{n_{1}!}{k_{1}!(n_{1}-k_{1})!} = \\frac{n_{2}!}{k_{2}!(n_{2}-k_{2})!}$\n",
    "\n",
    "Based on example of 4 heads or 4 tails:\n",
    "\n",
    "$\\frac{10!}{4!(10-4!)} = \\frac{10!}{4!(10-4)!}$\n",
    "\n",
    "210 = 210"
   ]
  },
  {
   "cell_type": "code",
   "execution_count": 3,
   "id": "a39e4899",
   "metadata": {},
   "outputs": [
    {
     "name": "stdout",
     "output_type": "stream",
     "text": [
      "There are the same number of ways to get 4 tails as there are to get 4 heads: 210 ways.\n"
     ]
    }
   ],
   "source": [
    "# Proving the same using python.\n",
    "\n",
    "n1 = 10\n",
    "n2 = 10\n",
    "k1 = 4\n",
    "k2 = 4\n",
    "\n",
    "p1 = math.comb(n1, k1)\n",
    "p2 = math.comb(n2, k2)\n",
    "\n",
    "if p1 == p2:\n",
    "    print (f'There are the same number of ways to get 4 tails as there are to get 4 heads: {p1} ways.')\n",
    "else: \n",
    "    print ('Your assumption was wrong.')"
   ]
  },
  {
   "cell_type": "markdown",
   "id": "7c1627db",
   "metadata": {},
   "source": [
    "## Exercise 2.3"
   ]
  },
  {
   "cell_type": "markdown",
   "id": "0bb08c3b",
   "metadata": {},
   "source": [
    "### Task"
   ]
  },
  {
   "cell_type": "markdown",
   "id": "6a6cad13",
   "metadata": {},
   "source": [
    "Plot bar charts or histograms of any three different distributions listed at the following link:\n",
    "\n",
    "[https://numpy.org/doc/stable/reference/random/generator.html#distributions](https://numpy.org/doc/stable/reference/random/generator.html#distributions)"
   ]
  },
  {
   "cell_type": "markdown",
   "id": "fccaee1e",
   "metadata": {},
   "source": [
    "### Solution"
   ]
  },
  {
   "cell_type": "code",
   "execution_count": 4,
   "id": "cf6087fe",
   "metadata": {},
   "outputs": [],
   "source": [
    "# Importing numpy and matplotlib libraries\n",
    "import numpy as np\n",
    "import matplotlib.pyplot as plt"
   ]
  },
  {
   "cell_type": "markdown",
   "id": "d92d598c",
   "metadata": {},
   "source": [
    "**1. Uniform Distribution**\n",
    "\n",
    "A uniform distribution, sometimes also known as a rectangular distribution, is a distribution that has constant probability (Wolfram MathWorld (n.d.)."
   ]
  },
  {
   "cell_type": "code",
   "execution_count": 5,
   "id": "f4203f8c",
   "metadata": {},
   "outputs": [
    {
     "data": {
      "image/png": "[encoded data removed]",
      "text/plain": [
       "<Figure size 640x480 with 1 Axes>"
      ]
     },
     "metadata": {},
     "output_type": "display_data"
    }
   ],
   "source": [
    "# Creating a new instance of a random number generator.\n",
    "rng = np.random.default_rng(0)\n",
    "\n",
    "# Generating 10000 numbers on a uniform distribution.\n",
    "u_samples = rng.uniform(-1, 2, 1000) # low (lower boundary), high (upper boundary), size\n",
    "\n",
    "bin = np.arange(-2,3,0.1)\n",
    "\n",
    "plt.hist(u_samples, bins=bin, edgecolor='blue') \n",
    "plt.title('Uniform Distribution') \n",
    "\n",
    "plt.show()"
   ]
  },
  {
   "cell_type": "markdown",
   "id": "4144dfb6",
   "metadata": {},
   "source": [
    "**2. Triangular Distribution**\n",
    "\n",
    "A triangular distribution is a continuous probability distribution with a probability density function shaped like a triangle. It is defined by three values: the minimum value (*left*), the maximum value (*right*), and the peak value (*mode*) (Wolfram MathWorld n.d.)."
   ]
  },
  {
   "cell_type": "code",
   "execution_count": 6,
   "id": "77ebbec2",
   "metadata": {},
   "outputs": [
    {
     "data": {
      "image/png": "[encoded data removed]",
      "text/plain": [
       "<Figure size 640x480 with 1 Axes>"
      ]
     },
     "metadata": {},
     "output_type": "display_data"
    }
   ],
   "source": [
    "# Creating a new instance of a random number generator.\n",
    "rng = np.random.default_rng(0)\n",
    "\n",
    "# Generating 10000 numbers on a triangular distribution.\n",
    "t_samples = rng.triangular(0, 8, 10, 10000) # left (lower limit), mode (peak), right (upper limit), size\n",
    "\n",
    "# Creating a figure.\n",
    "fig, ax = plt.subplots()\n",
    "\n",
    "# Creating a histogram.\n",
    "plt.hist(t_samples, bins=50, color='pink', edgecolor='red') \n",
    "plt.title('Triangular Distribution') \n",
    "\n",
    "plt.show()"
   ]
  },
  {
   "cell_type": "markdown",
   "id": "942a5cb8",
   "metadata": {},
   "source": [
    "**3. Wald Distribution**\n",
    "\n",
    "(a.k.a Inverse Gaussian Distribution)"
   ]
  },
  {
   "cell_type": "code",
   "execution_count": 7,
   "id": "ea6525a9",
   "metadata": {},
   "outputs": [
    {
     "data": {
      "image/png": "[encoded data removed]",
      "text/plain": [
       "<Figure size 640x480 with 1 Axes>"
      ]
     },
     "metadata": {},
     "output_type": "display_data"
    }
   ],
   "source": [
    "# Creating a new instance of a random number generator.\n",
    "rng = np.random.default_rng(0)\n",
    "\n",
    "# Generating 10000 numbers on a wald distribution.\n",
    "w_samples = rng.wald(1, 2, 10000) # mean, scale, size\n",
    "\n",
    "# Creating a figure.\n",
    "fig, ax = plt.subplots()\n",
    "\n",
    "# Creating a histogram.\n",
    "plt.hist(w_samples, bins=50, edgecolor='blue') \n",
    "plt.title('Wald Distribution') \n",
    "\n",
    "plt.show()"
   ]
  },
  {
   "cell_type": "markdown",
   "id": "ca27078c",
   "metadata": {},
   "source": [
    "### References\n",
    "\n",
    "GitHub (2023). *Writing mathematical expressions.* Online at https://docs.github.com/en/get-started/writing-on-github/working-with-advanced-formatting/writing-mathematical-expressions\n",
    "\n",
    "Millwood B, (2012). *Binomial Coefficients.* Online at https://nrich.maths.org/7713\n",
    "\n",
    "Numpy (n.d.). *Random Generator.* Online at https://numpy.org/doc/stable/reference/random/generator.html#distributions\n",
    "\n",
    "Python (n.d) *Mathematical functions.* Online at https://docs.python.org/3/library/math.html\n",
    "\n",
    "Wikibooks (2022). *LaTeX/Mathematics.* Online at https://en.wikibooks.org/wiki/LaTeX/Mathematics#Symbols\n",
    "\n",
    "Wolfram MathWorld (n.d.). *Binomial Coefficient.* Online at https://mathworld.wolfram.com/BinomialCoefficient.html\n",
    "\n",
    "Wolfram MathWorld (n.d.). *Continuous Distributions.* Online at https://mathworld.wolfram.com/topics/ContinuousDistributions.html"
   ]
  }
 ],
 "metadata": {
  "kernelspec": {
   "display_name": "Python 3 (ipykernel)",
   "language": "python",
   "name": "python3"
  },
  "language_info": {
   "codemirror_mode": {
    "name": "ipython",
    "version": 3
   },
   "file_extension": ".py",
   "mimetype": "text/x-python",
   "name": "python",
   "nbconvert_exporter": "python",
   "pygments_lexer": "ipython3",
   "version": "3.9.13"
  }
 },
 "nbformat": 4,
 "nbformat_minor": 5
}
