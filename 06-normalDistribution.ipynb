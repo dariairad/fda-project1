{
 "cells": [
  {
   "cell_type": "markdown",
   "id": "686662a9",
   "metadata": {},
   "source": [
    "# Normal Distribution"
   ]
  },
  {
   "cell_type": "markdown",
   "id": "20508956",
   "metadata": {},
   "source": [
    "### Overview"
   ]
  },
  {
   "cell_type": "markdown",
   "id": "f22ffc3a",
   "metadata": {},
   "source": [
    "### Task\n",
    "\n",
    "- Create a notebook about the normal distribution.\n",
    "- Define and explain the main concepts.\n",
    "- Pitch the notebook at your classmates.\n",
    "- Use visuals like plots to explain concepts."
   ]
  },
  {
   "cell_type": "markdown",
   "id": "9a09ba51",
   "metadata": {},
   "source": [
    "### Definitions\n",
    "\n",
    "**Continuous probability distribution** - A probability distribution in which the random variable X can take on any value (is continuous). Because there are infinite values that X could assume, the probability of X taking on any one specific value is zero. **Edit**"
   ]
  },
  {
   "cell_type": "markdown",
   "id": "4c9596f7",
   "metadata": {},
   "source": [
    "### Introduction"
   ]
  },
  {
   "cell_type": "markdown",
   "id": "182e2a10",
   "metadata": {},
   "source": [
    "The Normal Distribution is one of the fundamental continuous distributions of statistics. (McDonald n.d.)\n",
    "\n",
    "The Normal Distribution is also called the Gaussian Distribution after the German mathematician Carl Friedrich Gauss (W3Schools n.d) or Probability Bell Curve because of its characteristic bell-shaped curve.\n",
    "\n",
    "| ![Alt Text](https://encrypted-tbn0.gstatic.com/images?q=tbn:ANd9GcSgnTQs3aI8oipWy29SiO7IdSSRMPaqUtEAluvhnIipbfcBFSpYfqrYbCsExszlvuSCD5s&usqp=CAU \"Fig.1 - Carl Friedrich Gauss\") | \n",
    "|:--:| \n",
    "| *Fig.1 - Carl Friedrich Gauss* |\n",
    "\n",
    "\n",
    "In Normal Distribution most data points remain around the mean value, while the rest taper off symmetrically toward either extreme. \n",
    "\n",
    "The data isn't skewed in a particular way, but also isn't scattered all over the place. The arrangement of the data points is symmetric and indicates that values near the mean occur more frequently than the values that are farther away from the mean. (Awati 2022, DataGy 2022) The distribution of data points appears as a bell curve when plotted using a line graph or histogram. (Masterclass 2022)\n",
    "\n",
    "The normal distributions occurs often in nature and fits the probability distribution of many events, eg. IQ scores, heartbeat, heights and weights of people, blood pressure, marks on a test, to name a few. (W3Schools n.d, DataGy 2022)\n",
    "\n",
    "| ![Alt Text](https://www.123test.com/content/COM/iq-score-and-normal-distribution.png \"Fig.3 - IQ Test Results - Example of Normal Distribution\") | \n",
    "|:--:| \n",
    "| *Fig.3 - IQ Test Results - Example of Normal Distribution* |"
   ]
  },
  {
   "cell_type": "markdown",
   "id": "0892aa0b",
   "metadata": {},
   "source": [
    "### Properties of the Normal Distribution\n",
    "\n",
    "The normal probability distribution, one of the fundamental continuous distributions of statistics, is actually a family of distributions (an infinite number of distributions with differing means (μ) and standard deviations (σ).  Because the normal distribution is a continuous distribution, we can not calculate exact probability for an outcome, but instead we calculate a probability for a range of outcomes (for example the probability that a random variable X is greater than 10. (Duke 2023)"
   ]
  },
  {
   "cell_type": "markdown",
   "id": "8dcc7f5b",
   "metadata": {},
   "source": [
    "1. Central Tendency & Dispersion\n",
    "2. Central Limit Theorem"
   ]
  },
  {
   "cell_type": "markdown",
   "id": "efe1d2e5",
   "metadata": {},
   "source": [
    "**1. Distinctive symetrical bell shape:**\n",
    "\n",
    "The Normal Distribution is characterized by a distinctive bell-shaped curve with a single peak in the center and tapering down to the horizontal axis on each side. The curve is symmetric about a vertical line drawn through the mean, μ. This characteristic is called central tendency. (Holmes et al 2017, Masterclass 2022, Olson 2020)\n",
    "\n",
    "**2. Equal values:**\n",
    "\n",
    "For a perfectly Normal Distribution the measures of central tendency (mean, median, and mode) all have equal values. Mean is the most commonly used descriptor and we describe the graph as symmetric about mean, μ. (Holmes et al 2017, Olson 2020)\n",
    "\n",
    "**3. Standard deviations:**\n",
    "\n",
    "In the Normal Distribution, data is divided using standard deviations. A standard deviation, σ, is a measure of how dispersed the data is in relation to the mean or in simpler words, how far away a data point is from the mean. The skewness of a data point will depend on the number of standard deviations it falls from the sample mean. (Masterclass 2022, NLH n.d.)\n",
    "\n",
    "| ![Alt Text](https://www.nlm.nih.gov/nichsr/stats_tutorial/images/Section2Module7HighLowStandardDeviation.jpg \"High and Low Standard Deviation Curves\") | \n",
    "|:--:| \n",
    "| *High and Low Standard Deviation Curves* |\n",
    "\n",
    "**4. Equal distribution:**\n",
    "\n",
    "Data distribution is equally split. Regardless of sample size and the sample mean, half the data points is below the mean, and half the data points is above the mean. (Masterclass 2022)\n",
    "\n",
    "**5. Empirical Rule of Normal Probability**\n",
    "\n",
    "With a normal distribution of data, 99.7 percent of all data points fall within three standard deviations from the mean in either direction. \n",
    "\n",
    "- ≈68% of the data falls within 1 standard deviation of the mean (34.1 percent of all data points above the mean and 34.1 percent of all data points below the mean)\n",
    "- ≈95% of the data falls within 2 standard deviations of the mean (additional 13.6 percent of data points above the mean and another 13.6 percent below the mean.)\n",
    "- ≈99.7% of the data falls within 3 standard deviations of the mean (additional 2.1 percent of data points in either direction — both at the very top of the scale and the very bottom of the scale.)\n",
    "\n",
    " ninety-ninth percentile of a sample size and still be within three standard deviations of the mean. \n",
    " \n",
    " You have to be a true outlier, or special case, to go beyond three standard deviations. (Khan Academy n.d, Masterclass 2022) \n",
    " \n",
    "| ![Alt Text](https://datagy.io/wp-content/uploads/2022/01/Standard_deviation_diagram.svg_.png \"Fig.X - Normal Distibution\") | \n",
    "|:--:| \n",
    "| *Fig.X - Normal Distibution* |\n",
    "\n",
    "**6. Area Under the Curve Equals 1**\n",
    "\n",
    "- The total area under the curve has a value of one. If you were to calculate the total area under a normal distribution curve, its value would equal one unit of measure. (Masterclass 2022)"
   ]
  },
  {
   "cell_type": "markdown",
   "id": "a628e3fd",
   "metadata": {},
   "source": [
    "The normal distribution has two parameters (two numerical descriptive measures): \n",
    "- the mean (μ)\n",
    "- and the standard deviation (σ). \n",
    "\n",
    "If X is a quantity to be measured that has a normal distribution with mean (μ) and standard deviation (σ), we designate this by writing the following formula of the normal probability density function:\n",
    "\n",
    "| ![Alt Text](https://miro.medium.com/max/812/1*lLJ-k8AoOTGgIEgTzICX6Q.png \"Fig.4 - The Normal Probability Density Function\") | \n",
    "|:--:| \n",
    "| *Fig.4 - The Normal Probability Density Function* |\n",
    "\n",
    "This is a frequency curve for a normal distribution. It shows a single peak in the center with the curve tapering down to the horizontal axis on each side. The distribution is symmetrical; it represents the random variable X having a normal distribution with a mean, m, and standard deviation, s.\n",
    "\n",
    "The curve is symmetric about a vertical line drawn through the mean, μ. The mean is the same as the median, which is the same as the mode, because the graph is symmetric about μ. As the notation indicates, the normal distribution depends only on the mean and the standard deviation. Note that this is unlike several probability density functions we have already studied, such as the Poisson, where the mean is equal to μ and the standard deviation simply the square root of the mean, or the binomial, where p is used to determine both the mean and standard deviation. Since the area under the curve must equal one, a change in the standard deviation, σ, causes a change in the shape of the normal curve; the curve becomes fatter and wider or skinnier and taller depending on σ. A change in μ causes the graph to shift to the left or right. This means there are an infinite number of normal probability distributions. One of special interest is called the standard normal distribution. (Holmes et al 2017)"
   ]
  },
  {
   "cell_type": "markdown",
   "id": "23614af3",
   "metadata": {},
   "source": [
    "### Normal Distribution plot in NumPy"
   ]
  },
  {
   "cell_type": "markdown",
   "id": "0922477b",
   "metadata": {},
   "source": [
    "### References\n",
    "\n",
    "Awati R. (2022). *Normal distribution.* Online at https://www.techtarget.com/whatis/definition/normal-distribution\n",
    "\n",
    "Datagy (2022). *Numpy Normal (Gaussian) Distribution (Numpy Random Normal).* Online at https://datagy.io/numpy-random-normal/\n",
    "\n",
    "Duke, Nicolas School of Environment (2023). *Continuous Probability Distributions.* ENV710 Statistics Review Website. Available online at https://sites.nicholas.duke.edu/statsreview/continuous-probability-distributions/\n",
    "\n",
    "Holmes A, Illowsky B, Dean S, (2017). *The Normal Distribution.* Introductory Business Statistics. Online at https://openstax.org/books/introductory-business-statistics/pages/6-introduction\n",
    "\n",
    "Khan Academy (n.d.). *Normal distributions review.* Online at https://www.khanacademy.org/math/statistics-probability/modeling-distributions-of-data/normal-distributions-library/a/normal-distributions-review\n",
    "\n",
    "McDonald S, (n.d.). *The Normal Distribution – Concepts and Fundamentals.* Online at https://www.middlesex.mass.edu/ace/downloads/tipsheets/normal_cf.pdf\n",
    "\n",
    "Masterclass (2022). *Normal Distribution Explained: What Is Normal Distribution?* Online at https://www.masterclass.com/articles/normal-distribution\n",
    "\n",
    "National Library of Medicine (n.d.) *Finding and Using Health Statistics.* Online at https://www.nlm.nih.gov/nichsr/stats_tutorial/section2/mod8_sd.html\n",
    "\n",
    "NumPy (n.d.). *numpy.random.normal* Online at https://numpy.org/doc/stable/reference/random/generated/numpy.random.normal.html#rf578abb8fba2-2\n",
    "\n",
    "Olson J, (2020). *Properties of the Normal Distribution.* Online at https://medium.com/analytics-vidhya/properties-of-the-normal-distribution-7f5e04e57102\n",
    "\n",
    "W3Schoold (n.d.). *Normal (Gaussian) Distribution.* Online at https://www.w3schools.com/python/numpy/numpy_random_normal.asp"
   ]
  },
  {
   "cell_type": "code",
   "execution_count": null,
   "id": "430f7837",
   "metadata": {},
   "outputs": [],
   "source": []
  }
 ],
 "metadata": {
  "kernelspec": {
   "display_name": "Python 3.9.13 ('base')",
   "language": "python",
   "name": "python3"
  },
  "language_info": {
   "codemirror_mode": {
    "name": "ipython",
    "version": 3
   },
   "file_extension": ".py",
   "mimetype": "text/x-python",
   "name": "python",
   "nbconvert_exporter": "python",
   "pygments_lexer": "ipython3",
   "version": "3.9.13"
  },
  "vscode": {
   "interpreter": {
    "hash": "12c0276a1a3b8bd9bb5cd17bf1d8b29ed92a748b04abe156fcb301d2e09a54b6"
   }
  }
 },
 "nbformat": 4,
 "nbformat_minor": 5
}
