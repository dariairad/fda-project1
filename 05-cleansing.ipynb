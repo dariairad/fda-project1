{
 "cells": [
  {
   "cell_type": "markdown",
   "id": "8f4e37f1",
   "metadata": {},
   "source": [
    "# 5. Cleansing"
   ]
  },
  {
   "cell_type": "markdown",
   "id": "5dc3ca38",
   "metadata": {},
   "source": [
    "## Exercise 5.1"
   ]
  },
  {
   "cell_type": "markdown",
   "id": "d93c529d",
   "metadata": {},
   "source": [
    "### Task"
   ]
  },
  {
   "cell_type": "markdown",
   "id": "c3837778",
   "metadata": {},
   "source": [
    "Write a Python function to remove all non-alphanumeric characters from a string."
   ]
  },
  {
   "cell_type": "markdown",
   "id": "4306cb4c",
   "metadata": {},
   "source": [
    "### Solution"
   ]
  },
  {
   "cell_type": "markdown",
   "id": "b81254b8",
   "metadata": {},
   "source": [
    "The `` isalnum()`` returns True if all characters in the string are alphanumeric and there#'s at last one character (Python n.d).\n",
    "\n",
    "The ``filter()`` function returns an iterator were the items are filtered through a function to test if the item is accepted or not. It takes in ``function`` and `` iterable`` (W3Schools n.d.)."
   ]
  },
  {
   "cell_type": "code",
   "execution_count": 4,
   "id": "903b9aa9",
   "metadata": {},
   "outputs": [
    {
     "name": "stdout",
     "output_type": "stream",
     "text": [
      "surprise\n"
     ]
    }
   ],
   "source": [
    "input = '%su&*!rp+<>r?$i£s=@e'\n",
    "output = ''.join(filter(str.isalnum, input))\n",
    "print(output)"
   ]
  },
  {
   "cell_type": "markdown",
   "id": "b51f7e8c",
   "metadata": {},
   "source": [
    "### References\n",
    "\n",
    "Python (n.d). *Built-In Types.* Online at https://docs.python.org/3/library/stdtypes.html\n",
    "\n",
    "W3Schools (n.d.). *Python filter() Function.* Online at https://www.w3schools.com/python/ref_func_filter.asp"
   ]
  },
  {
   "cell_type": "code",
   "execution_count": null,
   "id": "9dc4a043",
   "metadata": {},
   "outputs": [],
   "source": []
  }
 ],
 "metadata": {
  "kernelspec": {
   "display_name": "Python 3 (ipykernel)",
   "language": "python",
   "name": "python3"
  },
  "language_info": {
   "codemirror_mode": {
    "name": "ipython",
    "version": 3
   },
   "file_extension": ".py",
   "mimetype": "text/x-python",
   "name": "python",
   "nbconvert_exporter": "python",
   "pygments_lexer": "ipython3",
   "version": "3.9.13"
  }
 },
 "nbformat": 4,
 "nbformat_minor": 5
}
