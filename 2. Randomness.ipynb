{
 "cells": [
  {
   "cell_type": "markdown",
   "id": "6f8d6410",
   "metadata": {},
   "source": [
    "## 2. Randomness"
   ]
  },
  {
   "cell_type": "markdown",
   "id": "b3e8d8bb",
   "metadata": {},
   "source": [
    "## Exercise 2.1"
   ]
  },
  {
   "cell_type": "markdown",
   "id": "226ce738",
   "metadata": {},
   "source": [
    "### Task"
   ]
  },
  {
   "cell_type": "markdown",
   "id": "75f51a1b",
   "metadata": {},
   "source": [
    "It is somewhat interesting that (5 * 4 * 3 * 2 * 1) perfectly divides (10 * 9 * 8 * 7 * 6) - there's no remainder.\n",
    "\n",
    "If we only wanted exactly four heads as opposed to five, the equivalent calculation would be (10 * 9 * 8 * 7) / (4 * 3 * 2 * 1).\n",
    "\n",
    "Does that evenly divide too? What is the formula in general?\n",
    "\n",
    "Does it always come out as a positive whole number?"
   ]
  },
  {
   "cell_type": "markdown",
   "id": "4777bd51",
   "metadata": {},
   "source": [
    "### Solution"
   ]
  },
  {
   "cell_type": "code",
   "execution_count": 2,
   "id": "8e8ed9cd",
   "metadata": {},
   "outputs": [
    {
     "data": {
      "text/plain": [
       "210"
      ]
     },
     "execution_count": 2,
     "metadata": {},
     "output_type": "execute_result"
    }
   ],
   "source": [
    "(10 * 9 * 8 * 7) // (4 * 3 * 2 * 1)"
   ]
  },
  {
   "cell_type": "markdown",
   "id": "7c81a04e",
   "metadata": {},
   "source": [
    "As in the case of `(10 * 9 * 8 * 7 * 6)//(5 * 4 * 3 * 2 * 1)`, `(10 * 9 * 8 * 7)` also perfectly divides by `(4 * 3 * 2 * 1)`. There are 210 ways of getting 4 heads in 10 coin flips. "
   ]
  },
  {
   "cell_type": "markdown",
   "id": "d787b979",
   "metadata": {},
   "source": [
    "The general formula is $\\binom{n}{k} = \\frac{n!}{k!(n-k)!}$. It is called a *Binomial coefficient* (a.k.a, the Choose function). (Wikibooks 2022)\n",
    "\n",
    "The binomial coefficient is the number of distinct subsets of size *k* of a set of size *n*. (Millwood 2012) Or in simpler words, it is the number of ways of picking *k* things from *n* possibilities. (Wolfram MathWorld n.d.)"
   ]
  },
  {
   "cell_type": "markdown",
   "id": "722b8de6",
   "metadata": {},
   "source": [
    "Number of possibilities for getting 4 heands in 10 tries using the formula above.\n",
    "\n",
    "$\\binom{10}{4} = \\frac{10!}{4!(10-4)!} = \\frac{10!}{4!(6)!} = \\frac{10 x 9 x 8 x 7 x 6 x 5 x 4 x 3 x 2 x 1}{4 x 3 x 2 x 1 x (6 x 5 x 4 x 3 x 2 x 1)} = \\frac{10 x 9 x 8 x 7}{4 x 3 x 2 x 1} = \\frac{5040}{24} = 210$  \n"
   ]
  },
  {
   "cell_type": "markdown",
   "id": "f55b0199",
   "metadata": {},
   "source": [
    "The outcome is always a positive integer.\n",
    "\n",
    "0 $\\leq$ k $\\leq$ n and both k & n are always whole numbers as both the number of distinctive subsets (things) and the size of the set (posibilities) must be positive integers."
   ]
  },
  {
   "cell_type": "markdown",
   "id": "7a597acb",
   "metadata": {},
   "source": [
    "### References\n",
    "\n",
    "GitHub (2023). *Writing mathematical expressions.* Online at https://docs.github.com/en/get-started/writing-on-github/working-with-advanced-formatting/writing-mathematical-expressions\n",
    "\n",
    "Millwood B, (2012). *Binomial Coefficients.* Online at https://nrich.maths.org/7713\n",
    "\n",
    "Wikibooks (2022). *LaTeX/Mathematics.* Online at https://en.wikibooks.org/wiki/LaTeX/Mathematics#Symbols\n",
    "\n",
    "Wolfram MathWorld (n.d.). *Binomial Coefficient.* Online at https://mathworld.wolfram.com/BinomialCoefficient.html"
   ]
  },
  {
   "cell_type": "code",
   "execution_count": null,
   "id": "5b013c20",
   "metadata": {},
   "outputs": [],
   "source": []
  }
 ],
 "metadata": {
  "kernelspec": {
   "display_name": "Python 3 (ipykernel)",
   "language": "python",
   "name": "python3"
  },
  "language_info": {
   "codemirror_mode": {
    "name": "ipython",
    "version": 3
   },
   "file_extension": ".py",
   "mimetype": "text/x-python",
   "name": "python",
   "nbconvert_exporter": "python",
   "pygments_lexer": "ipython3",
   "version": "3.9.13"
  }
 },
 "nbformat": 4,
 "nbformat_minor": 5
}
