{
 "cells": [
  {
   "cell_type": "markdown",
   "id": "ebf83737",
   "metadata": {},
   "source": [
    "# 4. Outliers"
   ]
  },
  {
   "cell_type": "markdown",
   "id": "7179bcf2",
   "metadata": {},
   "source": [
    "## Exercise 4.1"
   ]
  },
  {
   "cell_type": "markdown",
   "id": "623fc599",
   "metadata": {},
   "source": [
    "### Task"
   ]
  },
  {
   "cell_type": "markdown",
   "id": "1c68cff3",
   "metadata": {},
   "source": [
    "Create box plots on a single set of axes for all five experiments in the morley data set."
   ]
  },
  {
   "cell_type": "markdown",
   "id": "7597d6b6",
   "metadata": {},
   "source": [
    "### Solution"
   ]
  },
  {
   "cell_type": "code",
   "execution_count": 14,
   "id": "6457fb4e",
   "metadata": {},
   "outputs": [],
   "source": [
    "import pandas as pd\n",
    "\n",
    "# Numerical arrays.\n",
    "import numpy as np\n",
    "\n",
    "# Plotting.\n",
    "import matplotlib.pyplot as plt\n",
    "import seaborn as sea"
   ]
  },
  {
   "cell_type": "markdown",
   "id": "b0a310e7",
   "metadata": {},
   "source": [
    "#### Reading in Data: "
   ]
  },
  {
   "cell_type": "code",
   "execution_count": 2,
   "id": "69a1abf5",
   "metadata": {},
   "outputs": [],
   "source": [
    "# Reading in data from url.\n",
    "url = 'https://raw.githubusercontent.com/ianmcloughlin/2223-S1-fund-data-analysis/main/notebooks/data/morley.csv'\n",
    "data = np.genfromtxt(url, skip_header=1, delimiter=',', deletechars='\"')\n",
    "data = data[:,1:]\n",
    "\n",
    "# Cheking data - now hiden to keep the doc tidy\n",
    "# print(data) "
   ]
  },
  {
   "cell_type": "markdown",
   "id": "b8d6c17a",
   "metadata": {},
   "source": [
    "#### Selecting data for experiments"
   ]
  },
  {
   "cell_type": "code",
   "execution_count": 3,
   "id": "f7ce8ad9",
   "metadata": {},
   "outputs": [
    {
     "data": {
      "text/plain": [
       "array([ 850.,  740.,  900., 1070.,  930.,  850.,  950.,  980.,  980.,\n",
       "        880., 1000.,  980.,  930.,  650.,  760.,  810., 1000., 1000.,\n",
       "        960.,  960.])"
      ]
     },
     "execution_count": 3,
     "metadata": {},
     "output_type": "execute_result"
    }
   ],
   "source": [
    "# Selecting data for experiment 1.\n",
    "ex1 = data[:20, 2]\n",
    "ex1"
   ]
  },
  {
   "cell_type": "code",
   "execution_count": 4,
   "id": "a409299c",
   "metadata": {},
   "outputs": [
    {
     "data": {
      "text/plain": [
       "array([960., 940., 960., 940., 880., 800., 850., 880., 900., 840., 830.,\n",
       "       790., 810., 880., 880., 830., 800., 790., 760., 800.])"
      ]
     },
     "execution_count": 4,
     "metadata": {},
     "output_type": "execute_result"
    }
   ],
   "source": [
    "# Selecting data for experiment 2.\n",
    "ex2 = data[20:40, 2]\n",
    "ex2"
   ]
  },
  {
   "cell_type": "code",
   "execution_count": 5,
   "id": "919180c1",
   "metadata": {},
   "outputs": [
    {
     "data": {
      "text/plain": [
       "array([880., 880., 880., 860., 720., 720., 620., 860., 970., 950., 880.,\n",
       "       910., 850., 870., 840., 840., 850., 840., 840., 840.])"
      ]
     },
     "execution_count": 5,
     "metadata": {},
     "output_type": "execute_result"
    }
   ],
   "source": [
    "# Selecting data for experiment 3.\n",
    "ex3 = data[40:60, 2]\n",
    "ex3"
   ]
  },
  {
   "cell_type": "code",
   "execution_count": 6,
   "id": "293d8b38",
   "metadata": {},
   "outputs": [
    {
     "data": {
      "text/plain": [
       "array([890., 810., 810., 820., 800., 770., 760., 740., 750., 760., 910.,\n",
       "       920., 890., 860., 880., 720., 840., 850., 850., 780.])"
      ]
     },
     "execution_count": 6,
     "metadata": {},
     "output_type": "execute_result"
    }
   ],
   "source": [
    "# Selecting data for experiment 4.\n",
    "ex4 = data[60:80, 2]\n",
    "ex4"
   ]
  },
  {
   "cell_type": "code",
   "execution_count": 7,
   "id": "55de4501",
   "metadata": {},
   "outputs": [
    {
     "data": {
      "text/plain": [
       "array([890., 840., 780., 810., 760., 810., 790., 810., 820., 850., 870.,\n",
       "       870., 810., 740., 810., 940., 950., 800., 810., 870.])"
      ]
     },
     "execution_count": 7,
     "metadata": {},
     "output_type": "execute_result"
    }
   ],
   "source": [
    "# Selecting data for experiment 5.\n",
    "ex5 = data[80:100, 2]\n",
    "ex5"
   ]
  },
  {
   "cell_type": "code",
   "execution_count": 8,
   "id": "c876528b",
   "metadata": {},
   "outputs": [
    {
     "data": {
      "text/plain": [
       "array([[ 850.,  960.,  880.,  890.,  890.],\n",
       "       [ 740.,  940.,  880.,  810.,  840.],\n",
       "       [ 900.,  960.,  880.,  810.,  780.],\n",
       "       [1070.,  940.,  860.,  820.,  810.],\n",
       "       [ 930.,  880.,  720.,  800.,  760.],\n",
       "       [ 850.,  800.,  720.,  770.,  810.],\n",
       "       [ 950.,  850.,  620.,  760.,  790.],\n",
       "       [ 980.,  880.,  860.,  740.,  810.],\n",
       "       [ 980.,  900.,  970.,  750.,  820.],\n",
       "       [ 880.,  840.,  950.,  760.,  850.],\n",
       "       [1000.,  830.,  880.,  910.,  870.],\n",
       "       [ 980.,  790.,  910.,  920.,  870.],\n",
       "       [ 930.,  810.,  850.,  890.,  810.],\n",
       "       [ 650.,  880.,  870.,  860.,  740.],\n",
       "       [ 760.,  880.,  840.,  880.,  810.],\n",
       "       [ 810.,  830.,  840.,  720.,  940.],\n",
       "       [1000.,  800.,  850.,  840.,  950.],\n",
       "       [1000.,  790.,  840.,  850.,  800.],\n",
       "       [ 960.,  760.,  840.,  850.,  810.],\n",
       "       [ 960.,  800.,  840.,  780.,  870.]])"
      ]
     },
     "execution_count": 8,
     "metadata": {},
     "output_type": "execute_result"
    }
   ],
   "source": [
    "# Organizing the five experiments into columns.\n",
    "data2 = data[:,2].reshape(5, 20).T\n",
    "data2"
   ]
  },
  {
   "cell_type": "markdown",
   "id": "11fe073f",
   "metadata": {},
   "source": [
    "#### Plotting"
   ]
  },
  {
   "cell_type": "code",
   "execution_count": 9,
   "id": "8622821d",
   "metadata": {},
   "outputs": [
    {
     "data": {
      "text/plain": [
       "{'whiskers': [<matplotlib.lines.Line2D at 0x247c62a29a0>,\n",
       "  <matplotlib.lines.Line2D at 0x247c62a2c70>,\n",
       "  <matplotlib.lines.Line2D at 0x247c62c0dc0>,\n",
       "  <matplotlib.lines.Line2D at 0x247c62cc0d0>,\n",
       "  <matplotlib.lines.Line2D at 0x247c62da1f0>,\n",
       "  <matplotlib.lines.Line2D at 0x247c62da4c0>,\n",
       "  <matplotlib.lines.Line2D at 0x247c62e75e0>,\n",
       "  <matplotlib.lines.Line2D at 0x247c62e78b0>,\n",
       "  <matplotlib.lines.Line2D at 0x247c62f39d0>,\n",
       "  <matplotlib.lines.Line2D at 0x247c62f3ca0>],\n",
       " 'caps': [<matplotlib.lines.Line2D at 0x247c62a2f40>,\n",
       "  <matplotlib.lines.Line2D at 0x247c62c0250>,\n",
       "  <matplotlib.lines.Line2D at 0x247c62cc3a0>,\n",
       "  <matplotlib.lines.Line2D at 0x247c62cc670>,\n",
       "  <matplotlib.lines.Line2D at 0x247c62da790>,\n",
       "  <matplotlib.lines.Line2D at 0x247c62daa60>,\n",
       "  <matplotlib.lines.Line2D at 0x247c62e7b80>,\n",
       "  <matplotlib.lines.Line2D at 0x247c62e7e50>,\n",
       "  <matplotlib.lines.Line2D at 0x247c62f3f70>,\n",
       "  <matplotlib.lines.Line2D at 0x247c62ff280>],\n",
       " 'boxes': [<matplotlib.lines.Line2D at 0x247c62a26d0>,\n",
       "  <matplotlib.lines.Line2D at 0x247c62c0af0>,\n",
       "  <matplotlib.lines.Line2D at 0x247c62ccee0>,\n",
       "  <matplotlib.lines.Line2D at 0x247c62e7310>,\n",
       "  <matplotlib.lines.Line2D at 0x247c62f3700>],\n",
       " 'medians': [<matplotlib.lines.Line2D at 0x247c62c0520>,\n",
       "  <matplotlib.lines.Line2D at 0x247c62cc940>,\n",
       "  <matplotlib.lines.Line2D at 0x247c62dad30>,\n",
       "  <matplotlib.lines.Line2D at 0x247c62f3160>,\n",
       "  <matplotlib.lines.Line2D at 0x247c62ff550>],\n",
       " 'fliers': [<matplotlib.lines.Line2D at 0x247c62c07f0>,\n",
       "  <matplotlib.lines.Line2D at 0x247c62ccc10>,\n",
       "  <matplotlib.lines.Line2D at 0x247c62e7040>,\n",
       "  <matplotlib.lines.Line2D at 0x247c62f3430>,\n",
       "  <matplotlib.lines.Line2D at 0x247c62ff820>],\n",
       " 'means': []}"
      ]
     },
     "execution_count": 9,
     "metadata": {},
     "output_type": "execute_result"
    },
    {
     "data": {
      "image/png": "[encoded data removed]",
      "text/plain": [
       "<Figure size 640x480 with 1 Axes>"
      ]
     },
     "metadata": {},
     "output_type": "display_data"
    }
   ],
   "source": [
    "#  Creating a figure.\n",
    "fig, ax = plt.subplots()\n",
    "\n",
    "# Adding the boxplots\n",
    "ax.boxplot(data2)"
   ]
  },
  {
   "cell_type": "markdown",
   "id": "4705c3d1",
   "metadata": {},
   "source": [
    "## Exericise 4.2"
   ]
  },
  {
   "cell_type": "markdown",
   "id": "bc1f5463",
   "metadata": {},
   "source": [
    "### Task"
   ]
  },
  {
   "cell_type": "markdown",
   "id": "513b4fdd",
   "metadata": {},
   "source": [
    "Create box plots for all of the numercial variables in Fisher's Iris Data Set."
   ]
  },
  {
   "cell_type": "markdown",
   "id": "a61724f5",
   "metadata": {},
   "source": [
    "### Solution"
   ]
  },
  {
   "cell_type": "code",
   "execution_count": 10,
   "id": "991a91db",
   "metadata": {},
   "outputs": [],
   "source": [
    "url = \"https://gist.githubusercontent.com/netj/8836201/raw/6f9306ad21398ea43cba4f7d537619d0e07d5ae3/iris.csv\"\n",
    "    \n",
    "# Reading in data from url.\n",
    "iris = pd.read_csv(url, header=0)\n"
   ]
  },
  {
   "cell_type": "code",
   "execution_count": 11,
   "id": "fa428632",
   "metadata": {},
   "outputs": [
    {
     "name": "stdout",
     "output_type": "stream",
     "text": [
      "     sepal.length  sepal.width  petal.length  petal.width    variety\n",
      "0             5.1          3.5           1.4          0.2     Setosa\n",
      "1             4.9          3.0           1.4          0.2     Setosa\n",
      "2             4.7          3.2           1.3          0.2     Setosa\n",
      "3             4.6          3.1           1.5          0.2     Setosa\n",
      "4             5.0          3.6           1.4          0.2     Setosa\n",
      "..            ...          ...           ...          ...        ...\n",
      "145           6.7          3.0           5.2          2.3  Virginica\n",
      "146           6.3          2.5           5.0          1.9  Virginica\n",
      "147           6.5          3.0           5.2          2.0  Virginica\n",
      "148           6.2          3.4           5.4          2.3  Virginica\n",
      "149           5.9          3.0           5.1          1.8  Virginica\n",
      "\n",
      "[150 rows x 5 columns]\n"
     ]
    }
   ],
   "source": [
    "print (iris)"
   ]
  },
  {
   "cell_type": "code",
   "execution_count": 12,
   "id": "557b78d7",
   "metadata": {},
   "outputs": [
    {
     "name": "stdout",
     "output_type": "stream",
     "text": [
      "     Sepal Length  Sepal Width  Petal Length  Petal Width    Species\n",
      "0             5.1          3.5           1.4          0.2     Setosa\n",
      "1             4.9          3.0           1.4          0.2     Setosa\n",
      "2             4.7          3.2           1.3          0.2     Setosa\n",
      "3             4.6          3.1           1.5          0.2     Setosa\n",
      "4             5.0          3.6           1.4          0.2     Setosa\n",
      "..            ...          ...           ...          ...        ...\n",
      "145           6.7          3.0           5.2          2.3  Virginica\n",
      "146           6.3          2.5           5.0          1.9  Virginica\n",
      "147           6.5          3.0           5.2          2.0  Virginica\n",
      "148           6.2          3.4           5.4          2.3  Virginica\n",
      "149           5.9          3.0           5.1          1.8  Virginica\n",
      "\n",
      "[150 rows x 5 columns]\n"
     ]
    }
   ],
   "source": [
    "# setting variables for attributes and class\n",
    "sl = 'Sepal Length'\n",
    "sw = 'Sepal Width'\n",
    "pl = 'Petal Length'\n",
    "pw = 'Petal Width'\n",
    "sp = 'Species'\n",
    "\n",
    "# Adding headers to columns\n",
    "iris.columns = [sl, sw, pl, pw, sp]\n",
    "\n",
    "# Categorizing data by species\n",
    "iris_setosa = iris[iris[sp]=='Iris-setosa'] \n",
    "iris_virginica = iris[iris[sp]=='Iris-virginica']\n",
    "iris_versicolor = iris[iris[sp]=='Iris-versicolor'] \n",
    "\n",
    "# setting style of the grid + colour palette\n",
    "pal = (\"dodgerblue\", \"mediumorchid\", \"teal\", \"slateblue\")\n",
    "sea.set(style=\"darkgrid\", palette=pal)\n",
    "\n",
    "print (iris)"
   ]
  },
  {
   "cell_type": "code",
   "execution_count": 13,
   "id": "cca2c6e9",
   "metadata": {},
   "outputs": [
    {
     "data": {
      "image/png": "[encoded data removed]",
      "text/plain": [
       "<Figure size 800x800 with 4 Axes>"
      ]
     },
     "metadata": {},
     "output_type": "display_data"
    }
   ],
   "source": [
    "# Attributes by species + Outliers\n",
    "fig, axes = plt.subplots(2, 2, figsize=(8, 8)) \n",
    "sea.boxplot(x=sp, y=pl, data=iris, ax=axes[0,0])\n",
    "sea.boxplot(x=sp, y=sl, data=iris, ax=axes[0,1])\n",
    "sea.boxplot(x=sp, y=pw, data=iris, ax=axes[1,0])\n",
    "sea.boxplot(x=sp, y=sw, data=iris, ax=axes[1,1])\n",
    "plt.suptitle('Attributes by Species + Outliers')\n",
    "plt.show()"
   ]
  }
 ],
 "metadata": {
  "kernelspec": {
   "display_name": "Python 3 (ipykernel)",
   "language": "python",
   "name": "python3"
  },
  "language_info": {
   "codemirror_mode": {
    "name": "ipython",
    "version": 3
   },
   "file_extension": ".py",
   "mimetype": "text/x-python",
   "name": "python",
   "nbconvert_exporter": "python",
   "pygments_lexer": "ipython3",
   "version": "3.9.13"
  }
 },
 "nbformat": 4,
 "nbformat_minor": 5
}
