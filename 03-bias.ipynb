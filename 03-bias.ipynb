{
 "cells": [
  {
   "cell_type": "markdown",
   "id": "8e303600",
   "metadata": {},
   "source": [
    "# 3. Bias"
   ]
  },
  {
   "cell_type": "markdown",
   "id": "89d6bddd",
   "metadata": {},
   "source": [
    "## Exercise 3.1"
   ]
  },
  {
   "cell_type": "markdown",
   "id": "7eb971b5",
   "metadata": {},
   "source": [
    "### Task"
   ]
  },
  {
   "cell_type": "markdown",
   "id": "3478c546",
   "metadata": {},
   "source": [
    "Give three real-world examples of different types of cognitive bias."
   ]
  },
  {
   "cell_type": "markdown",
   "id": "9c118159",
   "metadata": {},
   "source": [
    "### Solution"
   ]
  },
  {
   "cell_type": "markdown",
   "id": "198e6f8b",
   "metadata": {},
   "source": [
    "Cognitive biases are predicable patterns of thought and behavior leading to draw incorrect conclusions (Cherry 2022)."
   ]
  },
  {
   "cell_type": "markdown",
   "id": "85821041",
   "metadata": {},
   "source": [
    "**1. Confirmation bias**\n",
    "\n",
    "Confirmation bias is like looking at the world via a filter. We want to be right, so we tend to seek out and favour information that confirms our existing beliefs and ignore the information that challenges them (McRaney 2011).\n",
    "\n",
    "Person A decided to buy a new car. Now that this particular model is on top of their mind, they started frequently noticing this same model amongst 100s of other cars they pass every day. This is simpler, more passive version of the confirmation bias. \n",
    "\n",
    "It becomes more problematic when confirmation bias distorts our active pursuit of facts. If the worldviews of a Person B match those of a controversial politician, they will watch and follow them not for information, but rather for confirmation. For example, they will reach for publications that show the politician in a positive light and avoid those that may challenge their views.\n"
   ]
  },
  {
   "cell_type": "markdown",
   "id": "fd456cc0",
   "metadata": {},
   "source": [
    "**2. Self-Serving Bias**\n",
    "\n",
    "The self-serving bias involves taking personal credit for successes while blaming negative outcomes on external factors. \n",
    "\n",
    "For Example, following a car accident, both parties involved may blame the other driver for causing the crash. "
   ]
  },
  {
   "cell_type": "markdown",
   "id": "b9245bb5",
   "metadata": {},
   "source": [
    "**3. Hindsight Bias a.k.a \"knew-it-all-along\" phenomenon**\n",
    "\n",
    "The hindsight bias  is our tendency to look back at an event that we could not predict at the time and make these events seem more predictable after-the-fact. After learning something new, it may also make us quickly redact our pasts so we can feel the comfort of always being right (McRaney 2011).\n",
    "\n",
    "For example, investors may be exposed to the hindsight bias after passing on a later successful investment. A big scale example of this was the 80s Computer Debut. In the 80s, there was a big interest in tech, industrials, and materials\n",
    "but a lot of investors were staying away from debut-making computer software and hardware. After the enormous success of companies like Apple or Microsoft, hundreds of investors most likely regreted not making an investment in the sector, even thou they claimed they have \"saw it coming\" all along (Chen 2022)."
   ]
  },
  {
   "cell_type": "markdown",
   "id": "1bb701f5",
   "metadata": {},
   "source": [
    "### Exercise 3.2"
   ]
  },
  {
   "cell_type": "markdown",
   "id": "d24d3d5c",
   "metadata": {},
   "source": [
    "### Task"
   ]
  },
  {
   "cell_type": "markdown",
   "id": "57f4aa76",
   "metadata": {},
   "source": [
    "Show that the difference between the standard deviation calculations is greatest for small sample sizes."
   ]
  },
  {
   "cell_type": "markdown",
   "id": "60835659",
   "metadata": {},
   "source": [
    "### Solution"
   ]
  },
  {
   "cell_type": "code",
   "execution_count": null,
   "id": "53bc5edb",
   "metadata": {},
   "outputs": [],
   "source": []
  },
  {
   "cell_type": "markdown",
   "id": "304ebe44",
   "metadata": {},
   "source": [
    "### References\n",
    "\n",
    "Chen J, (2022). *What Is Hindsight Bias?* Online at https://www.investopedia.com/terms/h/hindsight-bias.asp\n",
    "\n",
    "Cherry K, (2022). *List of Common Cognitive Biases.* Online at https://www.verywellmind.com/cognitive-biases-distort-thinking-2794763#toc-types-of-cognitive-biases\n",
    "\n",
    "McRaney D, (2011). *You Are Not So Smart: Why You Have Too Many Friends on Facebook, Why Your Memory Is Mostly Fiction, and 46 Other Ways You're Deluding Yourself.* Gotham Books, New York.\n",
    "\n",
    "The Decision Lab (2023). *Why do we see unpredictable events as predictable after they occur?* Online at \n",
    "https://thedecisionlab.com/biases/hindsight-bias"
   ]
  }
 ],
 "metadata": {
  "kernelspec": {
   "display_name": "Python 3 (ipykernel)",
   "language": "python",
   "name": "python3"
  },
  "language_info": {
   "codemirror_mode": {
    "name": "ipython",
    "version": 3
   },
   "file_extension": ".py",
   "mimetype": "text/x-python",
   "name": "python",
   "nbconvert_exporter": "python",
   "pygments_lexer": "ipython3",
   "version": "3.9.13"
  }
 },
 "nbformat": 4,
 "nbformat_minor": 5
}
