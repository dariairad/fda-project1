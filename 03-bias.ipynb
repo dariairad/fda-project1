{
 "cells": [
  {
   "cell_type": "markdown",
   "id": "8e303600",
   "metadata": {},
   "source": [
    "# 3. Bias"
   ]
  },
  {
   "cell_type": "markdown",
   "id": "89d6bddd",
   "metadata": {},
   "source": [
    "## Exercise 3.1"
   ]
  },
  {
   "cell_type": "markdown",
   "id": "7eb971b5",
   "metadata": {},
   "source": [
    "### Task"
   ]
  },
  {
   "cell_type": "markdown",
   "id": "3478c546",
   "metadata": {},
   "source": [
    "Give three real-world examples of different types of cognitive bias."
   ]
  },
  {
   "cell_type": "markdown",
   "id": "9c118159",
   "metadata": {},
   "source": [
    "### Solution"
   ]
  },
  {
   "cell_type": "markdown",
   "id": "198e6f8b",
   "metadata": {},
   "source": [
    "Cognitive biases are predictable patterns of thought and behavior leading to draw incorrect conclusions (Cherry 2022)."
   ]
  },
  {
   "cell_type": "markdown",
   "id": "85821041",
   "metadata": {},
   "source": [
    "**1. Confirmation bias**\n",
    "\n",
    "Confirmation bias is like looking at the world via a filter. We want to be right, so we tend to seek out and favour information that confirms our existing beliefs and ignore the information that challenges them (McRaney 2011).\n",
    "\n",
    "Person A decided to buy a new car. Now that this particular model is on top of their mind, they started frequently noticing this same model amongst 100s of other cars they pass every day. This is a simpler, more passive version of the confirmation bias. \n",
    "\n",
    "It becomes more problematic when confirmation bias distorts our active pursuit of facts. If the worldviews of a Person B match those of a controversial politician, they will watch and follow them not for information, but rather for confirmation. For example, they will reach for publications that show the politician in a positive light and avoid those that may challenge their views.\n"
   ]
  },
  {
   "cell_type": "markdown",
   "id": "fd456cc0",
   "metadata": {},
   "source": [
    "**2. Self-Serving Bias**\n",
    "\n",
    "The self-serving bias involves taking personal credit for successes while blaming negative outcomes on external factors. \n",
    "\n",
    "For Example, following a car accident, both parties involved may blame the other driver for causing the crash. "
   ]
  },
  {
   "cell_type": "markdown",
   "id": "b9245bb5",
   "metadata": {},
   "source": [
    "**3. Hindsight Bias a.k.a \"knew-it-all-along\" phenomenon**\n",
    "\n",
    "The hindsight bias  is our tendency to look back at an event that we could not predict at the time and make these events seem more predictable after-the-fact. After learning something new, it may also make us quickly redact our pasts so we can feel the comfort of always being right (McRaney 2011).\n",
    "\n",
    "For example, investors may be exposed to the hindsight bias after passing on a later successful investment. A big scale example of this was the 80s Computer Debut. In the 80s, there was a big interest in tech, industrials, and materials\n",
    "but a lot of investors were staying away from debut-making computer software and hardware. After the enormous success of companies like Apple or Microsoft, hundreds of investors most likely regreted not making an investment in the sector, even though they claimed they have \"saw it coming\" all along (Chen 2022)."
   ]
  },
  {
   "cell_type": "markdown",
   "id": "1bb701f5",
   "metadata": {},
   "source": [
    "### Exercise 3.2"
   ]
  },
  {
   "cell_type": "markdown",
   "id": "d24d3d5c",
   "metadata": {},
   "source": [
    "### Task"
   ]
  },
  {
   "cell_type": "markdown",
   "id": "57f4aa76",
   "metadata": {},
   "source": [
    "Show that the difference between the standard deviation calculations is greatest for small sample sizes."
   ]
  },
  {
   "cell_type": "markdown",
   "id": "60835659",
   "metadata": {},
   "source": [
    "### Solution"
   ]
  },
  {
   "cell_type": "markdown",
   "id": "0b6906b2",
   "metadata": {},
   "source": [
    "**Note:** All calculations below have been rounded to 10 decimal places. "
   ]
  },
  {
   "cell_type": "code",
   "execution_count": 1,
   "id": "53bc5edb",
   "metadata": {},
   "outputs": [],
   "source": [
    "import numpy as np\n",
    "import matplotlib.pyplot as plt"
   ]
  },
  {
   "cell_type": "markdown",
   "id": "549e5a02",
   "metadata": {},
   "source": [
    "**Sample of 10000 values**"
   ]
  },
  {
   "cell_type": "code",
   "execution_count": 2,
   "id": "6c05cf71",
   "metadata": {},
   "outputs": [
    {
     "data": {
      "text/plain": [
       "array([[4.55190045, 2.92937146, 2.7863107 , ..., 4.22755795, 3.36338245,\n",
       "        3.49805365],\n",
       "       [3.30788585, 4.8169517 , 3.50856806, ..., 2.23759606, 3.04893315,\n",
       "        3.94235865],\n",
       "       [3.95350212, 4.17803997, 4.00093131, ..., 2.02776291, 2.52465157,\n",
       "        2.21574058],\n",
       "       ...,\n",
       "       [1.07630614, 3.97391837, 2.06994297, ..., 2.5725007 , 4.01196965,\n",
       "        1.86386528],\n",
       "       [4.48319073, 4.82405463, 3.61615506, ..., 3.996692  , 3.05300309,\n",
       "        3.44402145],\n",
       "       [2.37428244, 2.7398121 , 3.83585579, ..., 2.72078693, 3.43344134,\n",
       "        2.82861481]])"
      ]
     },
     "execution_count": 2,
     "metadata": {},
     "output_type": "execute_result"
    }
   ],
   "source": [
    "x_mean = 3\n",
    "x_std = 1\n",
    "\n",
    "x = np.random.normal(x_mean, x_std, (10000, 10000))\n",
    "x"
   ]
  },
  {
   "cell_type": "code",
   "execution_count": 3,
   "id": "f13ee85d",
   "metadata": {},
   "outputs": [
    {
     "data": {
      "text/plain": [
       "array([0.99723934, 1.00139857, 1.00099305, ..., 0.99853616, 1.0211979 ,\n",
       "       1.00193842])"
      ]
     },
     "execution_count": 3,
     "metadata": {},
     "output_type": "execute_result"
    }
   ],
   "source": [
    "# Calculating standard deviation without correction.\n",
    "x_std2 = x.std(axis=1)\n",
    "x_std2"
   ]
  },
  {
   "cell_type": "code",
   "execution_count": 4,
   "id": "aba70fce",
   "metadata": {},
   "outputs": [
    {
     "data": {
      "text/plain": [
       "0.9999468519"
      ]
     },
     "execution_count": 4,
     "metadata": {},
     "output_type": "execute_result"
    }
   ],
   "source": [
    "x_std3 = round(x.std(), 10)\n",
    "x_std3"
   ]
  },
  {
   "cell_type": "code",
   "execution_count": 5,
   "id": "9ec53b28",
   "metadata": {},
   "outputs": [
    {
     "data": {
      "text/plain": [
       "5.31481e-05"
      ]
     },
     "execution_count": 5,
     "metadata": {},
     "output_type": "execute_result"
    }
   ],
   "source": [
    "# Difference between calculated standard deviation of the sample vs set standard deviation\n",
    "x_std_diff = round((x_std - x_std3), 10)\n",
    "x_std_diff"
   ]
  },
  {
   "cell_type": "code",
   "execution_count": 6,
   "id": "56b636ef",
   "metadata": {},
   "outputs": [
    {
     "data": {
      "text/plain": [
       "3.0002916785"
      ]
     },
     "execution_count": 6,
     "metadata": {},
     "output_type": "execute_result"
    }
   ],
   "source": [
    "# Calculating mean\n",
    "x_mean2 = round(x.mean(),10)\n",
    "x_mean2"
   ]
  },
  {
   "cell_type": "code",
   "execution_count": 7,
   "id": "03b61bd6",
   "metadata": {},
   "outputs": [
    {
     "data": {
      "text/plain": [
       "0.0002916785000000033"
      ]
     },
     "execution_count": 7,
     "metadata": {},
     "output_type": "execute_result"
    }
   ],
   "source": [
    "# Difference between calculated mean of the sample vs set mean\n",
    "x_mean_diff = abs(x_mean - x_mean2)\n",
    "x_mean_diff"
   ]
  },
  {
   "cell_type": "code",
   "execution_count": 19,
   "id": "0edaa3ce",
   "metadata": {},
   "outputs": [
    {
     "data": {
      "text/plain": [
       "<matplotlib.lines.Line2D at 0x2ec80aa1f40>"
      ]
     },
     "execution_count": 19,
     "metadata": {},
     "output_type": "execute_result"
    },
    {
     "data": {
      "image/png": "[encoded data removed]",
      "text/plain": [
       "<Figure size 1200x600 with 1 Axes>"
      ]
     },
     "metadata": {},
     "output_type": "display_data"
    }
   ],
   "source": [
    "# Plotting a histogram of the above standard deviation without correction\n",
    "fig, ax = plt.subplots(figsize=(12, 6))\n",
    "\n",
    "plt.hist(x_std2, bins=100)\n",
    "\n",
    "# Actual standard deviation\n",
    "plt.axvline(x=1, color='red')"
   ]
  },
  {
   "cell_type": "markdown",
   "id": "7f3601fb",
   "metadata": {},
   "source": [
    "**Sample of 100 values**"
   ]
  },
  {
   "cell_type": "code",
   "execution_count": 9,
   "id": "19f6b345",
   "metadata": {},
   "outputs": [],
   "source": [
    "y_mean = 3\n",
    "y_std = 1\n",
    "\n",
    "y = np.random.normal(y_mean, y_std, (10000, 5)) # 100 values"
   ]
  },
  {
   "cell_type": "code",
   "execution_count": 10,
   "id": "3ca7e563",
   "metadata": {},
   "outputs": [
    {
     "data": {
      "text/plain": [
       "array([0.53278212, 0.7539068 , 1.68330912, ..., 0.70177785, 0.79846066,\n",
       "       1.26627368])"
      ]
     },
     "execution_count": 10,
     "metadata": {},
     "output_type": "execute_result"
    }
   ],
   "source": [
    "# Calculating standard deviation.\n",
    "y_std2 = y.std(axis=1)\n",
    "y_std2"
   ]
  },
  {
   "cell_type": "code",
   "execution_count": 11,
   "id": "7bf3fa5b",
   "metadata": {},
   "outputs": [
    {
     "data": {
      "text/plain": [
       "1.0006261559"
      ]
     },
     "execution_count": 11,
     "metadata": {},
     "output_type": "execute_result"
    }
   ],
   "source": [
    "# Calculating standard deviation.\n",
    "y_std3 = round(y.std(),10)\n",
    "y_std3"
   ]
  },
  {
   "cell_type": "code",
   "execution_count": 12,
   "id": "fcc18a2b",
   "metadata": {},
   "outputs": [
    {
     "data": {
      "text/plain": [
       "0.0006261559"
      ]
     },
     "execution_count": 12,
     "metadata": {},
     "output_type": "execute_result"
    }
   ],
   "source": [
    "# Difference between calculated standard deviation of the sample vs set standard deviation.\n",
    "y_std_diff = round(abs(y_std - y_std3), 10)\n",
    "y_std_diff"
   ]
  },
  {
   "cell_type": "code",
   "execution_count": 13,
   "id": "ebbf77fd",
   "metadata": {},
   "outputs": [
    {
     "data": {
      "text/plain": [
       "2.9939993765"
      ]
     },
     "execution_count": 13,
     "metadata": {},
     "output_type": "execute_result"
    }
   ],
   "source": [
    "# Calculating mean.\n",
    "y_mean2 = round(np.mean(y),10)\n",
    "y_mean2"
   ]
  },
  {
   "cell_type": "code",
   "execution_count": 14,
   "id": "a898594b",
   "metadata": {},
   "outputs": [
    {
     "data": {
      "text/plain": [
       "0.0060006235"
      ]
     },
     "execution_count": 14,
     "metadata": {},
     "output_type": "execute_result"
    }
   ],
   "source": [
    "# Difference between calculated mean of the sample vs set mean.\n",
    "y_mean_diff = round(abs(y_mean - y_mean2), 10)\n",
    "y_mean_diff"
   ]
  },
  {
   "cell_type": "code",
   "execution_count": 18,
   "id": "5c0b7f8b",
   "metadata": {},
   "outputs": [
    {
     "data": {
      "text/plain": [
       "<matplotlib.lines.Line2D at 0x2ec80970730>"
      ]
     },
     "execution_count": 18,
     "metadata": {},
     "output_type": "execute_result"
    },
    {
     "data": {
      "image/png": "[encoded data removed]",
      "text/plain": [
       "<Figure size 1200x600 with 1 Axes>"
      ]
     },
     "metadata": {},
     "output_type": "display_data"
    }
   ],
   "source": [
    "# Plotting a histogram of the above standard deviation.\n",
    "fig, ax = plt.subplots(figsize=(12, 6))\n",
    "\n",
    "plt.hist(y_std2, bins=100)\n",
    "\n",
    "#Actual standard deviation\n",
    "plt.axvline(x=1, color='red')"
   ]
  },
  {
   "cell_type": "markdown",
   "id": "4cd3f70a",
   "metadata": {},
   "source": [
    "### Findings"
   ]
  },
  {
   "cell_type": "markdown",
   "id": "40b0fe3b",
   "metadata": {},
   "source": [
    "**1. Mean**"
   ]
  },
  {
   "cell_type": "code",
   "execution_count": 16,
   "id": "0f5905b7",
   "metadata": {},
   "outputs": [
    {
     "name": "stdout",
     "output_type": "stream",
     "text": [
      "Difference between set and calculated mean is greater in case of a smaller set.\n"
     ]
    }
   ],
   "source": [
    "# Mean\n",
    "\n",
    "if x_mean_diff <= y_mean_diff:\n",
    "    print (\"Difference between set and calculated mean is greater in case of a smaller set.\")\n",
    "else: \n",
    "    print (\"Difference between set and calculated mean is greater in case of a bigger set.\")"
   ]
  },
  {
   "cell_type": "markdown",
   "id": "b67b3290",
   "metadata": {},
   "source": [
    "**2. Standard Deviation**"
   ]
  },
  {
   "cell_type": "code",
   "execution_count": 17,
   "id": "b7a4dbc5",
   "metadata": {},
   "outputs": [
    {
     "name": "stdout",
     "output_type": "stream",
     "text": [
      "Difference between set and calculated standard deviation is greater in case of a smaller set.\n"
     ]
    }
   ],
   "source": [
    "# Standard Deviation\n",
    "\n",
    "if x_std_diff <= y_std_diff:\n",
    "    print (\"Difference between set and calculated standard deviation is greater in case of a smaller set.\")\n",
    "else: \n",
    "    print (\"Difference between set and calculated standard deviation is greater in case of a bigger set.\")"
   ]
  },
  {
   "cell_type": "markdown",
   "id": "a1eb967e",
   "metadata": {},
   "source": [
    "**3. Histograms**"
   ]
  },
  {
   "cell_type": "markdown",
   "id": "45010a43",
   "metadata": {},
   "source": [
    "The fact that the difference between the standard deviation calculations is greater for smaller sample sizes can also be seen on the histograms above. \n",
    "\n",
    "In case of smaller sample size, the peak of the graph is further away from the standard deviation line than in case of greater sample size."
   ]
  },
  {
   "cell_type": "markdown",
   "id": "304ebe44",
   "metadata": {},
   "source": [
    "### References\n",
    "\n",
    "Chen J, (2022). *What Is Hindsight Bias?* Online at https://www.investopedia.com/terms/h/hindsight-bias.asp\n",
    "\n",
    "Cherry K, (2022). *List of Common Cognitive Biases.* Online at https://www.verywellmind.com/cognitive-biases-distort-thinking-2794763#toc-types-of-cognitive-biases\n",
    "\n",
    "McRaney D, (2011). *You Are Not So Smart: Why You Have Too Many Friends on Facebook, Why Your Memory Is Mostly Fiction, and 46 Other Ways You're Deluding Yourself.* Gotham Books, New York.\n",
    "\n",
    "The Decision Lab (2023). *Why do we see unpredictable events as predictable after they occur?* Online at \n",
    "https://thedecisionlab.com/biases/hindsight-bias"
   ]
  }
 ],
 "metadata": {
  "kernelspec": {
   "display_name": "Python 3 (ipykernel)",
   "language": "python",
   "name": "python3"
  },
  "language_info": {
   "codemirror_mode": {
    "name": "ipython",
    "version": 3
   },
   "file_extension": ".py",
   "mimetype": "text/x-python",
   "name": "python",
   "nbconvert_exporter": "python",
   "pygments_lexer": "ipython3",
   "version": "3.9.13"
  }
 },
 "nbformat": 4,
 "nbformat_minor": 5
}
